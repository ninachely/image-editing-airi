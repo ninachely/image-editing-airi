{
 "cells": [
  {
   "cell_type": "code",
   "execution_count": 1,
   "metadata": {},
   "outputs": [],
   "source": [
    "import os\n",
    "import sys\n",
    "\n",
    "daam_path = os.path.join(os.getcwd(), \"daam\")\n",
    "if daam_path not in sys.path:\n",
    "    sys.path.append(daam_path)"
   ]
  },
  {
   "cell_type": "code",
   "execution_count": 2,
   "metadata": {},
   "outputs": [],
   "source": [
    "import numpy as np\n",
    "import torch\n",
    "import torch.nn.functional as F\n",
    "from torch import nn\n",
    "from matplotlib import pyplot as plt\n",
    "from diffusers import StableDiffusionPipeline\n",
    "from daam import GenerationExperiment, trace, set_seed\n",
    "from vis_utils import compute_cosine_similarity\n",
    "\n",
    "%config InlineBackend.figure_format='retina'"
   ]
  },
  {
   "cell_type": "code",
   "execution_count": null,
   "metadata": {},
   "outputs": [],
   "source": [
    "device = torch.device(\"cuda:0\" if torch.cuda.is_available() else \"cpu\")\n",
    "pipe = StableDiffusionPipeline.from_pretrained(\"runwayml/stable-diffusion-v1-5\").to(device)"
   ]
  },
  {
   "cell_type": "code",
   "execution_count": 4,
   "metadata": {},
   "outputs": [],
   "source": [
    "heatmaps_car_red = []\n",
    "heatmaps_car_blue = []\n",
    "heatmaps_blue = []\n",
    "heatmaps_red = []"
   ]
  },
  {
   "cell_type": "code",
   "execution_count": null,
   "metadata": {},
   "outputs": [],
   "source": [
    "prompt = \"A photo of a red car\"\n",
    "word = \"car\"\n",
    "\n",
    "article_layers = [3, 6, 9, 10, 12, 14, 16]\n",
    "layers_without_mid = [1, 2, 3, 4, 5, 6, 7, 8, 9, 11, 12, 13, 14, 15, 16]\n",
    "\n",
    "gen = set_seed(228)\n",
    "\n",
    "fig, ax = plt.subplots(3, 5, constrained_layout=True)\n",
    "plt.suptitle(f'prompt: \"{prompt}\",\\n word: \"{word}\"', fontsize=18)\n",
    "plt.figure(figsize=(5, 10))\n",
    "\n",
    "for ax_ in ax.flatten():\n",
    "    ax_.set_xticks([])\n",
    "    ax_.set_yticks([])\n",
    "\n",
    "with torch.no_grad():\n",
    "    with trace(pipe) as tc:\n",
    "        out = pipe(prompt, num_inference_steps=50, generator=gen)\n",
    "        for i, layer_idx in enumerate(layers_without_mid):\n",
    "            ax_ = ax[i // 5, i % 5]\n",
    "            heat_map_car_red = tc.compute_global_heat_map(layer_idx=i)\n",
    "            heat_map_car_red = heat_map_car_red.compute_word_heat_map(word)\n",
    "            heatmaps_car_red.append(heat_map_car_red)\n",
    "            heat_map_car_red.plot_overlay(out.images[0], ax=ax_)\n",
    "            ax_.set_title(f'Layer {layer_idx}', size=14)\n",
    "            \n",
    "plt.show()"
   ]
  },
  {
   "cell_type": "code",
   "execution_count": null,
   "metadata": {},
   "outputs": [],
   "source": [
    "prompt = \"A photo of a red car\"\n",
    "word = \"red\"\n",
    "\n",
    "article_layers = [3, 6, 9, 10, 12, 14, 16]\n",
    "layers_without_mid = [1, 2, 3, 4, 5, 6, 7, 8, 9, 11, 12, 13, 14, 15, 16]\n",
    "\n",
    "gen = set_seed(228)\n",
    "\n",
    "fig, ax = plt.subplots(3, 5, constrained_layout=True)\n",
    "plt.suptitle(f'prompt: \"{prompt}\",\\n word: \"{word}\"', fontsize=18)\n",
    "plt.figure(figsize=(5, 10))\n",
    "\n",
    "for ax_ in ax.flatten():\n",
    "    ax_.set_xticks([])\n",
    "    ax_.set_yticks([])\n",
    "\n",
    "with torch.no_grad():\n",
    "    with trace(pipe) as tc:\n",
    "        out = pipe(prompt, num_inference_steps=50, generator=gen)\n",
    "        for i, layer_idx in enumerate(layers_without_mid):\n",
    "            ax_ = ax[i // 5, i % 5]\n",
    "            heat_map_red = tc.compute_global_heat_map(layer_idx=i)\n",
    "            heat_map_red = heat_map_red.compute_word_heat_map(word)\n",
    "            heatmaps_red.append(heat_map_red)\n",
    "            heat_map_red.plot_overlay(out.images[0], ax=ax_)\n",
    "            ax_.set_title(f'Layer {layer_idx}', size=14)\n",
    "            \n",
    "plt.show()"
   ]
  },
  {
   "cell_type": "code",
   "execution_count": null,
   "metadata": {},
   "outputs": [],
   "source": [
    "prompt = \"A photo of a blue car\"\n",
    "word = \"car\"\n",
    "\n",
    "article_layers = [3, 6, 9, 10, 12, 14, 16]\n",
    "layers_without_mid = [1, 2, 3, 4, 5, 6, 7, 8, 9, 11, 12, 13, 14, 15, 16]\n",
    "\n",
    "gen = set_seed(228)\n",
    "\n",
    "fig, ax = plt.subplots(3, 5, constrained_layout=True)\n",
    "plt.suptitle(f'prompt: \"{prompt}\",\\n word: \"{word}\"', fontsize=18)\n",
    "plt.figure(figsize=(5, 10))\n",
    "\n",
    "for ax_ in ax.flatten():\n",
    "    ax_.set_xticks([])\n",
    "    ax_.set_yticks([])\n",
    "\n",
    "with torch.no_grad():\n",
    "    with trace(pipe) as tc:\n",
    "        out = pipe(prompt, num_inference_steps=50, generator=gen)\n",
    "        for i, layer_idx in enumerate(layers_without_mid):\n",
    "            ax_ = ax[i // 5, i % 5]\n",
    "            heat_map_car_blue = tc.compute_global_heat_map(layer_idx=i)\n",
    "            heat_map_car_blue = heat_map_car_blue.compute_word_heat_map(word)\n",
    "            heatmaps_car_blue.append(heat_map_car_blue)\n",
    "            heat_map_car_blue.plot_overlay(out.images[0], ax=ax_)\n",
    "            ax_.set_title(f'Layer {layer_idx}', size=14)\n",
    "            \n",
    "plt.show()"
   ]
  },
  {
   "cell_type": "code",
   "execution_count": null,
   "metadata": {},
   "outputs": [],
   "source": [
    "prompt = \"A photo of a blue car\"\n",
    "word = \"blue\"\n",
    "\n",
    "article_layers = [3, 6, 9, 10, 12, 14, 16]\n",
    "layers_without_mid = [1, 2, 3, 4, 5, 6, 7, 8, 9, 11, 12, 13, 14, 15, 16]\n",
    "\n",
    "gen = set_seed(228)\n",
    "\n",
    "fig, ax = plt.subplots(3, 5, constrained_layout=True)\n",
    "plt.suptitle(f'prompt: \"{prompt}\",\\n word: \"{word}\"', fontsize=18)\n",
    "plt.figure(figsize=(5, 10))\n",
    "\n",
    "for ax_ in ax.flatten():\n",
    "    ax_.set_xticks([])\n",
    "    ax_.set_yticks([])\n",
    "\n",
    "with torch.no_grad():\n",
    "    with trace(pipe) as tc:\n",
    "        out = pipe(prompt, num_inference_steps=50, generator=gen)\n",
    "        for i, layer_idx in enumerate(layers_without_mid):\n",
    "            ax_ = ax[i // 5, i % 5]\n",
    "            heat_map_blue = tc.compute_global_heat_map(layer_idx=i)\n",
    "            heat_map_blue = heat_map_blue.compute_word_heat_map(word)\n",
    "            heatmaps_blue.append(heat_map_blue)\n",
    "            heat_map_blue.plot_overlay(out.images[0], ax=ax_)\n",
    "            ax_.set_title(f'Layer {layer_idx}', size=14)\n",
    "            \n",
    "plt.show()"
   ]
  },
  {
   "cell_type": "code",
   "execution_count": null,
   "metadata": {},
   "outputs": [],
   "source": [
    "heatmaps_color_sim = []\n",
    "heatmaps_car_sim = []\n",
    "\n",
    "for heatmap_car_red, heatmap_car_blue in zip(heatmaps_car_red, heatmaps_car_blue):\n",
    "    cosine_similarity = compute_cosine_similarity(heatmap_car_red.heatmap, heatmap_car_blue.heatmap)\n",
    "    heatmaps_car_sim.append(cosine_similarity)\n",
    "\n",
    "for heatmap_red, heatmap_blue in zip(heatmaps_red, heatmaps_blue):\n",
    "    cosine_similarity = compute_cosine_similarity(heatmap_red.heatmap, heatmap_blue.heatmap)\n",
    "    heatmaps_color_sim.append(cosine_similarity)"
   ]
  },
  {
   "cell_type": "code",
   "execution_count": null,
   "metadata": {},
   "outputs": [],
   "source": [
    "for idx, value in enumerate(heatmaps_car_sim):\n",
    "    print(f\"layer_idx={layers_without_mid[idx]}, sim={value}\")"
   ]
  },
  {
   "cell_type": "code",
   "execution_count": null,
   "metadata": {},
   "outputs": [],
   "source": [
    "for idx, value in enumerate(heatmaps_color_sim):\n",
    "    print(f\"layer_idx={layers_without_mid[idx]}, sim={value}\")"
   ]
  }
 ],
 "metadata": {
  "kernelspec": {
   "display_name": "Python 3",
   "language": "python",
   "name": "python3"
  },
  "language_info": {
   "codemirror_mode": {
    "name": "ipython",
    "version": 3
   },
   "file_extension": ".py",
   "mimetype": "text/x-python",
   "name": "python",
   "nbconvert_exporter": "python",
   "pygments_lexer": "ipython3",
   "version": "3.8.5"
  }
 },
 "nbformat": 4,
 "nbformat_minor": 2
}
